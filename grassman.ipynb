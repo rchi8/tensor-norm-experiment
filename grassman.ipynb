{
  "nbformat": 4,
  "nbformat_minor": 0,
  "metadata": {
    "colab": {
      "provenance": []
    },
    "kernelspec": {
      "name": "python3",
      "display_name": "Python 3"
    },
    "language_info": {
      "name": "python"
    }
  },
  "cells": [
    {
      "cell_type": "code",
      "execution_count": null,
      "metadata": {
        "id": "obTzsSbm5jLN"
      },
      "outputs": [],
      "source": [
        "import math\n",
        "import matplotlib.pyplot as plt\n",
        "import numpy as np\n",
        "import itertools\n",
        "\n",
        "t1 = np.random.rand(3,3)\n",
        "t2 = np.random.rand(3,3)"
      ]
    },
    {
      "cell_type": "code",
      "source": [
        "# 順列の符号函数函数 sgn を転倒数によって定義する\n",
        "\n",
        "def sgn(lst):\n",
        "  count = 0\n",
        "  n = len(lst)\n",
        "  for i in range(n):\n",
        "    for j in range(i):\n",
        "      if lst[j] > lst[i]:\n",
        "        count += 1\n",
        "  return (-1)**count\n",
        "\n",
        "\n",
        "lst = np.array([2, 0, 1, 3, 4])\n",
        "sgn(lst)"
      ],
      "metadata": {
        "colab": {
          "base_uri": "https://localhost:8080/"
        },
        "id": "JvwyoA5R7T2d",
        "outputId": "cf371b91-ed9d-48eb-d87d-3acc95d7542b"
      },
      "execution_count": null,
      "outputs": [
        {
          "output_type": "execute_result",
          "data": {
            "text/plain": [
              "1"
            ]
          },
          "metadata": {},
          "execution_count": 224
        }
      ]
    },
    {
      "cell_type": "code",
      "source": [
        "# テンソル の交代化射影 alt を定義する\n",
        "\n",
        "def alt(tensor):\n",
        "  k = len(np.shape(tensor)) # テンソルの階数\n",
        "  n = np.shape(tensor)[0] # ベクトルの次元\n",
        "  res = np.zeros(np.shape(tensor)) #結果を格納する配列を初期化\n",
        "  # 添字の集合0,1,...,(n-1)から順序区別して区別してkを取る\n",
        "  for idx in itertools.permutations(np.arange(n), k):\n",
        "    for pmt in itertools.permutations(idx, len(idx)):\n",
        "      res[idx] += sgn(idx)*sgn(pmt)*tensor[pmt]\n",
        "  return (1/math.factorial(k))*res\n",
        "\n",
        "a1 = alt(t1)\n",
        "a2 = alt(t2)"
      ],
      "metadata": {
        "id": "1u4ltS5e-pop"
      },
      "execution_count": null,
      "outputs": []
    },
    {
      "cell_type": "code",
      "source": [
        "# テンソル代数同士の内積 dot_t, 交代代数同士の内積 dot_e を定義する\n",
        "\n",
        "def dot_t(tensor1, tensor2):\n",
        "  return (tensor1*tensor2).sum()\n",
        "\n",
        "def dot_e(alttensor1, alttensor2):\n",
        "  return (1/math.factorial(len(np.shape(alttensor1)))\n",
        "  * dot_t(alttensor1, alttensor2))\n",
        "\n",
        "print(dot_t(t1, t2))\n",
        "print(dot_e(a1, a2))"
      ],
      "metadata": {
        "colab": {
          "base_uri": "https://localhost:8080/"
        },
        "id": "C7ixAZ9fK_MI",
        "outputId": "f8f6b7ed-f99e-43cd-fbe9-485800acd221"
      },
      "execution_count": null,
      "outputs": [
        {
          "output_type": "stream",
          "name": "stdout",
          "text": [
            "1.2865562395703343\n",
            "0.01136322805380792\n"
          ]
        }
      ]
    },
    {
      "cell_type": "code",
      "source": [
        "# k個の列ベクトルを並べた並べた(n, k)行列をk階テンソルにする関数 tensorize を定義する\n",
        "\n",
        "# こっちはどこかで間違えた\n",
        "def tens(mat):\n",
        "  dim, rank = np.shape(mat)\n",
        "  lst = [dim]*rank\n",
        "  res = np.zeros(lst)\n",
        "  for idx in itertools.combinations_with_replacement(np.arange(dim), rank):\n",
        "    res[idx] = mat[[idx],[np.arange(rank)]].prod()\n",
        "  return res\n",
        "\n",
        "def tensorize(mat):\n",
        "  dim, rank = np.shape(mat)\n",
        "  if rank == 2:\n",
        "    submat = mat[:, (rank-2)]\n",
        "  else:\n",
        "    submat = mat[:, 0:(rank-1)]\n",
        "  return np.tensordot(submat, mat[:, rank-1], axes=0)\n",
        "\n",
        "mat = np.array([[1,2], [0,1], [2,2]])\n",
        "print(tensorize(mat))\n",
        ""
      ],
      "metadata": {
        "colab": {
          "base_uri": "https://localhost:8080/"
        },
        "id": "xOtSu8UUQ2uS",
        "outputId": "bc87b094-b0a5-415e-951d-112c18e03860"
      },
      "execution_count": null,
      "outputs": [
        {
          "output_type": "stream",
          "name": "stdout",
          "text": [
            "[[2 1 2]\n",
            " [0 0 0]\n",
            " [4 2 4]]\n"
          ]
        }
      ]
    },
    {
      "cell_type": "code",
      "source": [
        "# comass\n",
        "\n",
        "def comass(anttensor):\n",
        "  k = len(np.shape(anttensor))\n",
        "  n = np.shape(anttensor)[0]\n",
        "  lst = np.zeros(100000)\n",
        "  for i in range(100000):\n",
        "    lst[i] = dot_t(anttensor, simple_vectors[i,:,:])\n",
        "  return np.amax(abs(lst))\n",
        "\n",
        "# 1になるはずなのだが、、、\n",
        "comass(2*alt(tensorize(np.array([[0,0], [1,0.1], [0,1], [0,0.3]]))))"
      ],
      "metadata": {
        "colab": {
          "base_uri": "https://localhost:8080/"
        },
        "id": "GaKc3jCiXA_J",
        "outputId": "bc309173-9d1e-49da-e17f-ada7a3e403aa"
      },
      "execution_count": null,
      "outputs": [
        {
          "output_type": "execute_result",
          "data": {
            "text/plain": [
              "1.017135409280659"
            ]
          },
          "metadata": {},
          "execution_count": 283
        }
      ]
    },
    {
      "cell_type": "code",
      "source": [
        "# tensor product\n",
        "\n",
        "a = np.array([[1,0], [2, 1]])\n",
        "b = np.array([[2, 1], [1, 0], [1, 9]])\n",
        "\n",
        "c = np.tensordot(a,b, axes=0)\n",
        "c.shape"
      ],
      "metadata": {
        "id": "b27Xj_9Tb0TF",
        "colab": {
          "base_uri": "https://localhost:8080/"
        },
        "outputId": "e4fa78d6-de94-4a10-b175-c70e12e02034"
      },
      "execution_count": null,
      "outputs": [
        {
          "output_type": "execute_result",
          "data": {
            "text/plain": [
              "(2, 2, 3, 2)"
            ]
          },
          "metadata": {},
          "execution_count": 276
        }
      ]
    },
    {
      "cell_type": "code",
      "source": [
        "# exterior product\n",
        "\n",
        "def exteroir_product(alttensor1, alttensor2):\n",
        "  return 1/math.factorial(len(alttensor1.shape))*1/math.factorial(len(alttensor2.shape))*alt(\n",
        "      np.tensordot(alttensor1, alttensor2, axes=0)\n",
        "  )\n",
        "\n"
      ],
      "metadata": {
        "id": "UfDUWoNivSko"
      },
      "execution_count": null,
      "outputs": []
    },
    {
      "cell_type": "code",
      "source": [
        "# simple vectors\n",
        "\"\"\"\n",
        "times = 10000000\n",
        "n = 4\n",
        "k = 2\n",
        "simple_vectors = np.zeros((times, n, n))\n",
        "matrices = np.random.rand(times*n*k).reshape(times, n, k)\n",
        "for i in range(times):\n",
        "  tensor = tensorize(matrices[i,:,:])\n",
        "  simple_vectors[i,:,:] = tensor/np.sqrt(dot_t(tensor, tensor))\n",
        "\"\"\"\n",
        "\n"
      ],
      "metadata": {
        "colab": {
          "base_uri": "https://localhost:8080/",
          "height": 92
        },
        "id": "vn9-aOfGCt9q",
        "outputId": "79654361-df71-4b7a-9cbd-0663d5719fef"
      },
      "execution_count": null,
      "outputs": [
        {
          "output_type": "execute_result",
          "data": {
            "application/vnd.google.colaboratory.intrinsic+json": {
              "type": "string"
            },
            "text/plain": [
              "'\\ntimes = 10000000\\nn = 4\\nk = 2\\nsimple_vectors = np.zeros((times, n, n))\\nmatrices = np.random.rand(times*n*k).reshape(times, n, k)\\nfor i in range(times):\\n  tensor = tensorize(matrices[i,:,:])\\n  simple_vectors[i,:,:] = tensor/np.sqrt(dot_t(tensor, tensor))\\n'"
            ]
          },
          "metadata": {},
          "execution_count": 278
        }
      ]
    },
    {
      "cell_type": "code",
      "source": [
        "simple_vectors\n",
        "\n",
        "np.save('/content/sample_data/simple_vectors', simple_vectors)"
      ],
      "metadata": {
        "id": "AKuhfHMHMEH-"
      },
      "execution_count": null,
      "outputs": []
    }
  ]
}